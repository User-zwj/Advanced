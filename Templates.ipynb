{
 "cells": [
  {
   "cell_type": "markdown",
   "metadata": {},
   "source": [
    "What is a Template?\n",
    "- Part of the string module\n",
    "- Allows for data to change without having to edit the application\n",
    "- Can be modified with subclasses\n",
    "\n",
    "How it works?\n",
    "- Take a string as a template with placeholder variables to be over written.\n",
    "- You then substitute the values in with a dictionary. The key being the placeholder name\n",
    "- Placeholder names follow the same rules as variable naming in Python\n",
    "- Template (\"\\$ name is friends with \\$fiend\")"
   ]
  },
  {
   "cell_type": "code",
   "execution_count": 1,
   "metadata": {},
   "outputs": [],
   "source": [
    "from string import Template"
   ]
  },
  {
   "cell_type": "code",
   "execution_count": 3,
   "metadata": {},
   "outputs": [
    {
     "name": "stdout",
     "output_type": "stream",
     "text": [
      "Cart:\n",
      "2 x Coke = 8\n",
      "1 x Cake = 12\n",
      "4 x Fish = 32\n",
      "Total: 52\n"
     ]
    }
   ],
   "source": [
    "def Main():\n",
    "    cart = []\n",
    "    cart.append(dict(item=\"Coke\", price=8, qty=2))\n",
    "    cart.append(dict(item=\"Cake\", price=12, qty=1))\n",
    "    cart.append(dict(item=\"Fish\", price=32, qty=4))\n",
    "    \n",
    "    t = Template(\"$qty x $item = $price\")\n",
    "    total = 0 \n",
    "    print(\"Cart:\")\n",
    "    for data in cart:\n",
    "        print(t.substitute(data))\n",
    "        total += data[\"price\"]\n",
    "    print(\"Total: \"+str(total))\n",
    "    \n",
    "if __name__ == \"__main__\":\n",
    "    Main()"
   ]
  },
  {
   "cell_type": "code",
   "execution_count": 4,
   "metadata": {},
   "outputs": [
    {
     "name": "stdout",
     "output_type": "stream",
     "text": [
      "Cart:\n",
      "2 x Coke = 8\n",
      "1 x Cake = 12\n",
      "4 x Fish = 32\n",
      "Total: 52\n"
     ]
    }
   ],
   "source": [
    "class MyTemplate(Template):\n",
    "    delimiter = \"#\"\n",
    "\n",
    "def Main():\n",
    "    cart = []\n",
    "    cart.append(dict(item=\"Coke\", price=8, qty=2))\n",
    "    cart.append(dict(item=\"Cake\", price=12, qty=1))\n",
    "    cart.append(dict(item=\"Fish\", price=32, qty=4))\n",
    "    \n",
    "    t = MyTemplate(\"#qty x #item = #price\")\n",
    "    total = 0 \n",
    "    print(\"Cart:\")\n",
    "    for data in cart:\n",
    "        print(t.substitute(data))\n",
    "        total += data[\"price\"]\n",
    "    print(\"Total: \"+str(total))\n",
    "    \n",
    "if __name__ == \"__main__\":\n",
    "    Main()"
   ]
  },
  {
   "cell_type": "code",
   "execution_count": null,
   "metadata": {},
   "outputs": [],
   "source": []
  }
 ],
 "metadata": {
  "kernelspec": {
   "display_name": "Python 3",
   "language": "python",
   "name": "python3"
  },
  "language_info": {
   "codemirror_mode": {
    "name": "ipython",
    "version": 3
   },
   "file_extension": ".py",
   "mimetype": "text/x-python",
   "name": "python",
   "nbconvert_exporter": "python",
   "pygments_lexer": "ipython3",
   "version": "3.7.5"
  }
 },
 "nbformat": 4,
 "nbformat_minor": 2
}
